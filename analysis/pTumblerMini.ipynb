{
 "cells": [
  {
   "cell_type": "markdown",
   "id": "7491e1c4",
   "metadata": {},
   "source": [
    "## pTumbler Analysis - General Calculations\n",
    "\n",
    "## Purpose\n",
    "This document serves as the repository for all analysis for the pTumbler project."
   ]
  },
  {
   "cell_type": "code",
   "execution_count": 3,
   "id": "69f2e059-63be-413f-bbd7-8a4359046f10",
   "metadata": {},
   "outputs": [
    {
     "data": {
      "text/plain": [
       "'\\n%pip install numpy\\n%pip install pyyaml\\n%pip install pint\\n%pip install matplotlib\\n'"
      ]
     },
     "execution_count": 3,
     "metadata": {},
     "output_type": "execute_result"
    }
   ],
   "source": [
    "'''\n",
    "%pip install numpy\n",
    "%pip install pyyaml\n",
    "%pip install pint\n",
    "%pip install matplotlib\n",
    "'''"
   ]
  },
  {
   "cell_type": "code",
   "execution_count": 6,
   "id": "4beb8d1e",
   "metadata": {},
   "outputs": [],
   "source": [
    "# Base Libraries for all Ondroid projects\n",
    "import numpy, yaml, pint\n",
    "import numpy as np\n",
    "import matplotlib.pyplot as plt\n",
    "\n",
    "# Boilerplate\n",
    "## Initialize Pint Registry for Unit Manipulation\n",
    "## See documentation on Registries and Units in Pint here:\n",
    "## https://pint.readthedocs.io/en/stable/getting/tutorial.html\n",
    "from pint import UnitRegistry\n",
    "ureg = UnitRegistry(auto_reduce_dimensions=True)"
   ]
  },
  {
   "cell_type": "code",
   "execution_count": 7,
   "id": "562a9d0c-98ea-4b5c-9315-c290d3bfc36a",
   "metadata": {},
   "outputs": [],
   "source": [
    "preferred_units = [\n",
    "   ureg.m,  # distance      L\n",
    "   ureg.kilogram,  # mass          M\n",
    "   ureg.s,  # duration      T\n",
    "   ureg.c,  # temperature   Θ\n",
    "   ureg.newton,  # force         L M T^-2\n",
    "   ureg.W,  # power         L^2 M T^-3\n",
    "]"
   ]
  },
  {
   "cell_type": "code",
   "execution_count": 8,
   "id": "78148e21-91f1-484c-afbe-ac6353e7f796",
   "metadata": {
    "scrolled": true
   },
   "outputs": [
    {
     "data": {
      "text/plain": [
       "'\\nwith open(\\'vars.txt\\',  \\'w\\') as file:\\n    # Iterate th rough the pint values dictionary\\n    for quantity, value in parameters.items():\\n        # Format the value with 6 decimal places\\n        value_str = f\"{quantity}: {value:.6f~P}\"\\n        \\n        # Write the formatted string to the file, followed by a newline character\\n        file.write(value_str + \\'\\n\\')\\n'"
      ]
     },
     "execution_count": 8,
     "metadata": {},
     "output_type": "execute_result"
    }
   ],
   "source": [
    "# This is Boiler Plate code to be ignored - it's stored for use\n",
    "    # later to read and write to files\n",
    "# Sample picking up of Pint quantities for analysis\n",
    "\n",
    "'''\n",
    "# Dictionary to store the read Pint values\n",
    "parameters = {}\n",
    "\n",
    "# Open and read the file\n",
    "with open('vars.txt', 'r') as file:\n",
    "    for line in file:\n",
    "        # Split the line into quantity name and value string\n",
    "        quantity, value_str = line.strip().split(': ')\n",
    "        \n",
    "        # Parse the value string into a Pint quantity\n",
    "        value = ureg(value_str)\n",
    "        \n",
    "        # Store the Pint quantity in the dictionary\n",
    "        parameters[quantity] = value\n",
    "# Create parameters\n",
    "## Arms are defined starting at the shoulder, working down to the hand\n",
    "parameters['L1'] = 750 * ureg.millimeter\n",
    "parameters['L2'] = 500 * ureg.millimeter\n",
    "parameters['L3'] = 150 * ureg.millimeter\n",
    "parameters['LP'] = 150 * ureg.millimeter\n",
    "\n",
    "## Masses are defined\n",
    "## Note: Masses estimated. They need further conceptual design to refine\n",
    "parameters['m1'] = 2.5 * ureg.kilogram\n",
    "parameters['m2'] = 2.0 * ureg.kilogram\n",
    "parameters['m3'] = 0.5 * ureg.kilogram\n",
    "\n",
    "## A requirement of the project is to be able to lift a gallon of water\n",
    "parameters['mP'] = 4.0 * ureg.kilogram\n",
    "'''\n",
    "\n",
    "# Sample closing out file and save manipulated parameters\n",
    "'''\n",
    "with open('vars.txt',  'w') as file:\n",
    "    # Iterate th rough the pint values dictionary\n",
    "    for quantity, value in parameters.items():\n",
    "        # Format the value with 6 decimal places\n",
    "        value_str = f\"{quantity}: {value:.6f~P}\"\n",
    "        \n",
    "        # Write the formatted string to the file, followed by a newline character\n",
    "        file.write(value_str + '\\n')\n",
    "'''"
   ]
  },
  {
   "cell_type": "code",
   "execution_count": 12,
   "id": "c8f6e174-a647-4d01-bc6d-8843a9d07ca0",
   "metadata": {},
   "outputs": [
    {
     "name": "stdout",
     "output_type": "stream",
     "text": [
      "weight of WC media\n",
      "0.1079179169923301 force_pound\n",
      "Torque generated by WC media + parts\n",
      "1.0087028591913105 meter * newton\n",
      "Power required of System\n",
      "47.49363927400844 force_pound * millimeter / second\n",
      "0.21126223280602938 watt\n",
      "0.00028330732089005276 horsepower\n",
      "required motor reduction\n",
      "5.0 dimensionless\n"
     ]
    }
   ],
   "source": [
    "# Density of Aluminum\n",
    "rho_al = 2.7 * ureg.g / (ureg.cm*ureg.cm*ureg.cm)\n",
    "\n",
    "# Maximum Weight of Parts\n",
    "W_p = 25 * ureg.lbf\n",
    "\n",
    "# Required Speed\n",
    "w_s = 12 * ureg.deg / ureg.s\n",
    "\n",
    "# Speed of Motor\n",
    "w_m = 10 * ureg.rpm\n",
    "\n",
    "# Required Reduction\n",
    "N_g = w_m / w_s\n",
    "\n",
    "# Density of Media\n",
    "rho_m = 90 * ureg.lbf / (ureg.ft*ureg.ft*ureg.ft)\n",
    "# Length of Barrel, L_b, that can contain Media\n",
    "L_b = 267 * ureg.mm\n",
    "\n",
    "# Tm = Motor Torque\n",
    "# Tw = Torque Generated by Weight\n",
    "# Ta = Torque Remaining for Acceleration\n",
    "# e = weight eccentricity\n",
    "# D = diameter of the Barrel\n",
    "D = 18 * ureg.mm\n",
    "e = D/3\n",
    "\n",
    "# Volume of Assembly (Aluminum parts that are rotating)\n",
    "V_a = 2130538 * ureg.mm**3\n",
    "# Weight of the Assembly\n",
    "W_a = V_a * rho_al * 9.81 * (ureg.m / ureg.s**2)\n",
    "\n",
    "# Mass of the media in worst case\n",
    "Vm_wc = 3.14 * (D/2)**2 * L_b / 2\n",
    "\n",
    "# Weight of the media\n",
    "W_m = Vm_wc * rho_m\n",
    "\n",
    "# Torque Generated by the Media, Parts & Assembly\n",
    "T_w = e * (W_m + W_p + W_a)\n",
    "\n",
    "# WC power required for system\n",
    "# Torque (N.m) x Speed (RPM) / 9.5488\n",
    "P_sys = T_w * w_s\n",
    "\n",
    "print(\"weight of WC media\")\n",
    "print(W_m.to(ureg.lbf))\n",
    "\n",
    "print(\"Torque generated by WC media + parts\")\n",
    "print(T_w.to(ureg.newton * ureg.m))\n",
    "\n",
    "print(\"Power required of System\")\n",
    "print(P_sys)\n",
    "print(P_sys.to(ureg.watt))\n",
    "print(P_sys.to(ureg.hp))\n",
    "\n",
    "\n",
    "print('required motor reduction')\n",
    "print(round(N_g, 2))"
   ]
  },
  {
   "cell_type": "code",
   "execution_count": 11,
   "id": "71f1878c-331b-4262-bd96-8e02f8511883",
   "metadata": {},
   "outputs": [
    {
     "name": "stdout",
     "output_type": "stream",
     "text": [
      "2.0000000000000004 revolutions_per_minute\n"
     ]
    }
   ],
   "source": [
    "# How many RPM is required for the drum?\n",
    "print(w_s.to(ureg.rpm))"
   ]
  },
  {
   "cell_type": "markdown",
   "id": "5301c86c-29a7-4f2f-aa67-bf4d289ba7fe",
   "metadata": {},
   "source": [
    "# Plotting of Torque over rotation for Drum"
   ]
  },
  {
   "cell_type": "code",
   "execution_count": 12,
   "id": "26dabb14-9f63-48a1-b4cc-db59f1d0f9d1",
   "metadata": {},
   "outputs": [
    {
     "data": {
      "image/png": "[encoded data removed]",
      "text/plain": [
       "<Figure size 640x480 with 1 Axes>"
      ]
     },
     "metadata": {},
     "output_type": "display_data"
    }
   ],
   "source": [
    "# Step 1: Define your X and Y values in lists\n",
    "# For this example, let's use some sample data\n",
    "\n",
    "# Initialize empty lists to store X (rotation) and Y (torque) values\n",
    "x_values = []  # Rotation (X)\n",
    "y_values = []  # Torque (Y)\n",
    "\n",
    "for x in range(0, 360):  # This gives X values: 0, 1, 2, ..., 10\n",
    "    e_fn = np.sin(np.radians(x))*e\n",
    "    \n",
    "    y = e_fn * (W_m + W_p)\n",
    "    x_values.append(x)  # Append X value to the list\n",
    "    x_label = 'degrees'\n",
    " \n",
    "    y_values.append(y.to(ureg.newton * ureg.meter).magnitude) \n",
    "    y_label = str(y.to(ureg.newton * ureg.meter).units)\n",
    "\n",
    "\n",
    "\n",
    "# Step 2: Create the plot\n",
    "plt.plot(x_values, y_values, marker='.', linestyle='-', label='Torque')\n",
    "\n",
    "# Step 3: Add labels and title\n",
    "plt.xlabel(x_label)\n",
    "plt.ylabel(y_label)\n",
    "plt.title('Torque vs. Rotation')\n",
    "plt.legend()  # Show the label for the data\n",
    "\n",
    "# Step 4: Add a grid for better readability\n",
    "plt.grid(True)\n",
    "\n",
    "# Step 5: Display the plot\n",
    "plt.show()"
   ]
  },
  {
   "cell_type": "code",
   "execution_count": 17,
   "id": "bc3f82a0-4cf9-4fb7-9488-7cb7b6b1c318",
   "metadata": {},
   "outputs": [
    {
     "name": "stdout",
     "output_type": "stream",
     "text": [
      "258.56688345020075 force_pound\n"
     ]
    }
   ],
   "source": [
    "# Declare the weight of the Frame\n",
    "# Volume of the Barrel is from CAD as of 04/02/25\n",
    "volumeBarrel = 8750962 * ureg.mm*ureg.mm*ureg.mm\n",
    "W_b = volumeBarrel * rho_al * 9.81 * ureg.m / (ureg.s * ureg.s)\n",
    "# Weight of Media, Parts & Frame\n",
    "W_t = W_b + W_m + W_p\n",
    "\n",
    "print(W_t.to(ureg.lbf))\n"
   ]
  },
  {
   "cell_type": "markdown",
   "id": "731fa8ae-24fc-4828-8341-e3901b6c1972",
   "metadata": {},
   "source": [
    "# Flexure Analysis\n",
    "## Equation that relates deflection to length of beam\n",
    "$$\\delta = \\frac{P \\ell^3}{3EI} = \\frac{W_tL_{flex}^3}{3EI}$$\n",
    "\n",
    "## Equation for bending stress\n",
    "\n",
    "$$ \\sigma = \\frac{mc} {I} = \\frac{W_tL_{flex}\\frac{h}{2}} {I} $$\n",
    "\n",
    "## Equation for required length against FOS and yield strength\n",
    "\n",
    "$$ \\frac{\\sigma I}{W_t\\frac{h}{2}} = L_{flex}$$"
   ]
  },
  {
   "cell_type": "code",
   "execution_count": 35,
   "id": "25e4a01c-4d5b-4e9b-900c-95281560c1ef",
   "metadata": {},
   "outputs": [
    {
     "name": "stdout",
     "output_type": "stream",
     "text": [
      "required deflection for flexure\n",
      "6.3327873890408375 millimeter\n",
      "bending stress in ksi for flexure\n",
      "247.4442425043483 kip_per_square_inch\n",
      "required length of flex to not break the flex\n",
      "7.213746345173633 millimeter\n"
     ]
    }
   ],
   "source": [
    "# Effective length of Flexure\n",
    "l_flex = 59.5 * ureg.mm\n",
    "\n",
    "# Second moment of Area\n",
    "B = 23.8 * ureg.mm\n",
    "h = 3.18 * ureg.mm\n",
    "\n",
    "I_flex = B*h**3 / 12\n",
    "\n",
    "# E for Aluminum\n",
    "E_st = 29000000 * ureg.psi\n",
    "\n",
    "# Required deflection for flexure to generate load W_t\n",
    "del_flex = (W_t * l_flex**3)/(3*E_st*I_flex)\n",
    "\n",
    "# Stress generated in the flexure\n",
    "sigma_b = W_t * l_flex * (h/2) / (I_flex)\n",
    "\n",
    "# Yield Stress of 304 SS\n",
    "sigma_y = 30 * ureg.ksi\n",
    "\n",
    "# Required length to hit target normal stress generated at outer fiber\n",
    "L_required = (sigma_y * I_flex) / (W_t * (h/2))\n",
    "\n",
    "\n",
    "print(\"required deflection for flexure\")\n",
    "print(del_flex.to(ureg.mm))\n",
    "\n",
    "print(\"bending stress in ksi for flexure\")\n",
    "print(sigma_b.to(ureg.ksi))\n",
    "\n",
    "print(\"required length of flex to not break the flex\")\n",
    "print(L_required.to(ureg.mm))"
   ]
  },
  {
   "cell_type": "code",
   "execution_count": null,
   "id": "a748e3e3-9ffc-4fef-8b86-ea40fc51beb4",
   "metadata": {},
   "outputs": [],
   "source": []
  }
 ],
 "metadata": {
  "kernelspec": {
   "display_name": "Python 3 (ipykernel)",
   "language": "python",
   "name": "python3"
  },
  "language_info": {
   "codemirror_mode": {
    "name": "ipython",
    "version": 3
   },
   "file_extension": ".py",
   "mimetype": "text/x-python",
   "name": "python",
   "nbconvert_exporter": "python",
   "pygments_lexer": "ipython3",
   "version": "3.9.6"
  }
 },
 "nbformat": 4,
 "nbformat_minor": 5
}
